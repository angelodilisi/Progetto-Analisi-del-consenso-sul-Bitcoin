{
 "cells": [
  {
   "cell_type": "code",
   "execution_count": 0,
   "metadata": {
    "application/vnd.databricks.v1+cell": {
     "cellMetadata": {
      "byteLimit": 2048000,
      "rowLimit": 10000
     },
     "inputWidgets": {},
     "nuid": "43f6e049-e75c-4469-ac62-ed6f340b760d",
     "showTitle": false,
     "title": ""
    }
   },
   "outputs": [
    {
     "output_type": "stream",
     "name": "stdout",
     "output_type": "stream",
     "text": [
      "Requirement already satisfied: vaderSentiment in /local_disk0/.ephemeral_nfs/envs/pythonEnv-e2f8c9a4-e4b1-4abf-9c8d-967d39f1ed87/lib/python3.9/site-packages (3.3.2)\r\nRequirement already satisfied: requests in /databricks/python3/lib/python3.9/site-packages (from vaderSentiment) (2.27.1)\r\nRequirement already satisfied: charset-normalizer~=2.0.0 in /databricks/python3/lib/python3.9/site-packages (from requests->vaderSentiment) (2.0.4)\r\nRequirement already satisfied: idna<4,>=2.5 in /databricks/python3/lib/python3.9/site-packages (from requests->vaderSentiment) (3.3)\r\nRequirement already satisfied: certifi>=2017.4.17 in /databricks/python3/lib/python3.9/site-packages (from requests->vaderSentiment) (2021.10.8)\r\nRequirement already satisfied: urllib3<1.27,>=1.21.1 in /databricks/python3/lib/python3.9/site-packages (from requests->vaderSentiment) (1.26.9)\r\n\u001B[33mWARNING: You are using pip version 21.2.4; however, version 24.2 is available.\r\nYou should consider upgrading via the '/local_disk0/.ephemeral_nfs/envs/pythonEnv-e2f8c9a4-e4b1-4abf-9c8d-967d39f1ed87/bin/python -m pip install --upgrade pip' command.\u001B[0m\r\n"
     ]
    }
   ],
   "source": [
    "import pandas as pd\n",
    "import re\n",
    "from pyspark.sql import SparkSession\n",
    "from pyspark.sql.functions import col, udf, to_date\n",
    "from pyspark.sql.types import StringType, FloatType, DateType\n",
    "import matplotlib.pyplot as plt\n",
    "!pip install vaderSentiment\n",
    "from vaderSentiment.vaderSentiment import SentimentIntensityAnalyzer\n"
   ]
  },
  {
   "cell_type": "markdown",
   "metadata": {
    "application/vnd.databricks.v1+cell": {
     "cellMetadata": {
      "byteLimit": 2048000,
      "rowLimit": 10000
     },
     "inputWidgets": {},
     "nuid": "66bccbea-1051-45d5-a0fc-ab7d7f4420be",
     "showTitle": false,
     "title": ""
    }
   },
   "source": [
    "**Creazione della Spark Session**"
   ]
  },
  {
   "cell_type": "code",
   "execution_count": 0,
   "metadata": {
    "application/vnd.databricks.v1+cell": {
     "cellMetadata": {
      "byteLimit": 2048000,
      "rowLimit": 10000
     },
     "inputWidgets": {},
     "nuid": "22d9aff1-5557-43bd-a3a7-a955a1b1cacd",
     "showTitle": false,
     "title": ""
    }
   },
   "outputs": [],
   "source": [
    "spark = SparkSession.builder.appName(\"BitcoinSentimentAnalysis\").getOrCreate()"
   ]
  },
  {
   "cell_type": "markdown",
   "metadata": {
    "application/vnd.databricks.v1+cell": {
     "cellMetadata": {
      "byteLimit": 2048000,
      "rowLimit": 10000
     },
     "inputWidgets": {},
     "nuid": "74c3d68c-159f-4ccd-b072-71e6928efbe1",
     "showTitle": false,
     "title": ""
    }
   },
   "source": [
    "**Caricamento del dataset**"
   ]
  },
  {
   "cell_type": "code",
   "execution_count": 0,
   "metadata": {
    "application/vnd.databricks.v1+cell": {
     "cellMetadata": {
      "byteLimit": 2048000,
      "rowLimit": 10000
     },
     "inputWidgets": {},
     "nuid": "d580064c-9c24-4d92-9e2f-2368ab040943",
     "showTitle": false,
     "title": ""
    }
   },
   "outputs": [
    {
     "output_type": "stream",
     "name": "stdout",
     "output_type": "stream",
     "text": [
      "--2024-08-30 12:40:49--  https://proai-datasets.s3.eu-west-3.amazonaws.com/bitcoin_tweets.csv\r\nResolving proai-datasets.s3.eu-west-3.amazonaws.com (proai-datasets.s3.eu-west-3.amazonaws.com)... 16.12.18.38, 52.95.155.36\r\nConnecting to proai-datasets.s3.eu-west-3.amazonaws.com (proai-datasets.s3.eu-west-3.amazonaws.com)|16.12.18.38|:443... connected.\r\nHTTP request sent, awaiting response... 200 OK\r\nLength: 24708828 (24M) [text/csv]\r\nSaving to: ‘bitcoin_tweets.csv’\r\n\r\n\rbitcoin_tweets.csv    0%[                    ]       0  --.-KB/s               \rbitcoin_tweets.csv    0%[                    ]  58.50K   217KB/s               \rbitcoin_tweets.csv    0%[                    ] 177.50K   329KB/s               \rbitcoin_tweets.csv    2%[                    ] 653.50K   821KB/s               \rbitcoin_tweets.csv   10%[=>                  ]   2.50M  2.34MB/s               \rbitcoin_tweets.csv   23%[===>                ]   5.49M  4.11MB/s               \rbitcoin_tweets.csv   36%[======>             ]   8.53M  5.31MB/s               \rbitcoin_tweets.csv   49%[========>           ]  11.57M  6.17MB/s               \rbitcoin_tweets.csv   61%[===========>        ]  14.60M  6.80MB/s               \rbitcoin_tweets.csv   74%[=============>      ]  17.63M  7.25MB/s               \rbitcoin_tweets.csv   87%[================>   ]  20.67M  7.69MB/s               \rbitcoin_tweets.csv  100%[===================>]  23.56M  8.27MB/s    in 2.8s    \r\n\r\n2024-08-30 12:40:53 (8.27 MB/s) - ‘bitcoin_tweets.csv’ saved [24708828/24708828]\r\n\r\n"
     ]
    }
   ],
   "source": [
    "!wget https://proai-datasets.s3.eu-west-3.amazonaws.com/bitcoin_tweets.csv -O bitcoin_tweets.csv"
   ]
  },
  {
   "cell_type": "code",
   "execution_count": 0,
   "metadata": {
    "application/vnd.databricks.v1+cell": {
     "cellMetadata": {
      "byteLimit": 2048000,
      "rowLimit": 10000
     },
     "inputWidgets": {},
     "nuid": "9800ac66-581f-44ed-950c-d52d9a8cb7bb",
     "showTitle": false,
     "title": ""
    }
   },
   "outputs": [],
   "source": [
    "dataset = pd.read_csv('bitcoin_tweets.csv', delimiter=\",\")\n"
   ]
  },
  {
   "cell_type": "markdown",
   "metadata": {
    "application/vnd.databricks.v1+cell": {
     "cellMetadata": {
      "byteLimit": 2048000,
      "rowLimit": 10000
     },
     "inputWidgets": {},
     "nuid": "93e7b33c-5fda-4d10-9f3b-d44f2092e8af",
     "showTitle": false,
     "title": ""
    }
   },
   "source": [
    "**Conversione del DataFrame di pandas in DataFrame di Spark**"
   ]
  },
  {
   "cell_type": "code",
   "execution_count": 0,
   "metadata": {
    "application/vnd.databricks.v1+cell": {
     "cellMetadata": {
      "byteLimit": 2048000,
      "rowLimit": 10000
     },
     "inputWidgets": {},
     "nuid": "eaf4d2f8-a93b-4ff4-9236-87c5bc7e43e2",
     "showTitle": false,
     "title": ""
    }
   },
   "outputs": [],
   "source": [
    "spark_df = spark.createDataFrame(dataset)"
   ]
  },
  {
   "cell_type": "code",
   "execution_count": 0,
   "metadata": {
    "application/vnd.databricks.v1+cell": {
     "cellMetadata": {
      "byteLimit": 2048000,
      "rowLimit": 10000
     },
     "inputWidgets": {},
     "nuid": "290d5456-8346-45db-a80a-e9cbbc9b4434",
     "showTitle": false,
     "title": ""
    }
   },
   "outputs": [],
   "source": [
    "spark_df.write.format(\"parquet\").mode(\"overwrite\").saveAsTable(\"bitcoin_sentiment_analysis\")"
   ]
  },
  {
   "cell_type": "markdown",
   "metadata": {
    "application/vnd.databricks.v1+cell": {
     "cellMetadata": {
      "byteLimit": 2048000,
      "rowLimit": 10000
     },
     "inputWidgets": {},
     "nuid": "530c366a-ba9e-4b7e-aae2-984fc74f5568",
     "showTitle": false,
     "title": ""
    }
   },
   "source": [
    "**Pulizia dei tweet (rimozione link, menzioni, hashtag, caratteri speciali e conversione del testo in minuscolo)**"
   ]
  },
  {
   "cell_type": "code",
   "execution_count": 0,
   "metadata": {
    "application/vnd.databricks.v1+cell": {
     "cellMetadata": {
      "byteLimit": 2048000,
      "rowLimit": 10000
     },
     "inputWidgets": {},
     "nuid": "7e6c0076-16b8-4772-8ffb-8766650f444e",
     "showTitle": false,
     "title": ""
    }
   },
   "outputs": [],
   "source": [
    "def clean_tweet(tweet):\n",
    "    tweet = re.sub(r'http\\S+', '', tweet) \n",
    "    tweet = re.sub(r'@\\w+', '', tweet)   \n",
    "    tweet = re.sub(r'#', '', tweet)       \n",
    "    tweet = re.sub(r'[^A-Za-z0-9 ]+', '', tweet)  \n",
    "    return tweet.lower() "
   ]
  },
  {
   "cell_type": "markdown",
   "metadata": {
    "application/vnd.databricks.v1+cell": {
     "cellMetadata": {
      "byteLimit": 2048000,
      "rowLimit": 10000
     },
     "inputWidgets": {},
     "nuid": "7dba444a-1034-495d-b9dd-8ffec63055ea",
     "showTitle": false,
     "title": ""
    }
   },
   "source": [
    "**Funzione UDF per pulire i tweet**"
   ]
  },
  {
   "cell_type": "code",
   "execution_count": 0,
   "metadata": {
    "application/vnd.databricks.v1+cell": {
     "cellMetadata": {
      "byteLimit": 2048000,
      "rowLimit": 10000
     },
     "inputWidgets": {},
     "nuid": "b116c775-ec2b-4c52-847c-a46225deed09",
     "showTitle": false,
     "title": ""
    }
   },
   "outputs": [],
   "source": [
    "clean_tweet_udf = udf(clean_tweet, StringType())"
   ]
  },
  {
   "cell_type": "code",
   "execution_count": 0,
   "metadata": {
    "application/vnd.databricks.v1+cell": {
     "cellMetadata": {
      "byteLimit": 2048000,
      "rowLimit": 10000
     },
     "inputWidgets": {},
     "nuid": "55b2a3a6-9b49-4d74-bf08-574e34832918",
     "showTitle": false,
     "title": ""
    }
   },
   "outputs": [],
   "source": [
    "df = spark.sql(\"SELECT * FROM bitcoin_sentiment_analysis\")"
   ]
  },
  {
   "cell_type": "markdown",
   "metadata": {
    "application/vnd.databricks.v1+cell": {
     "cellMetadata": {
      "byteLimit": 2048000,
      "rowLimit": 10000
     },
     "inputWidgets": {},
     "nuid": "a4579267-b896-4453-8d0c-a02ec30b07f8",
     "showTitle": false,
     "title": ""
    }
   },
   "source": [
    "**Applicazione della funzione per la pulizia**"
   ]
  },
  {
   "cell_type": "code",
   "execution_count": 0,
   "metadata": {
    "application/vnd.databricks.v1+cell": {
     "cellMetadata": {
      "byteLimit": 2048000,
      "rowLimit": 10000
     },
     "inputWidgets": {},
     "nuid": "d1db6669-1f00-4c26-abcb-55b304bffa4d",
     "showTitle": false,
     "title": ""
    }
   },
   "outputs": [],
   "source": [
    "df = df.withColumn('clean_text', clean_tweet_udf(col('text')))\n",
    "df = df.withColumn('date', to_date(col('timestamp'), 'yyyy-MM-dd'))\n"
   ]
  },
  {
   "cell_type": "markdown",
   "metadata": {
    "application/vnd.databricks.v1+cell": {
     "cellMetadata": {
      "byteLimit": 2048000,
      "rowLimit": 10000
     },
     "inputWidgets": {},
     "nuid": "f0bea6c8-fc5b-4a7f-a25e-634c98403725",
     "showTitle": false,
     "title": ""
    }
   },
   "source": [
    "**Creazione dell'oggetto SentimentIntensityAnalyzer**"
   ]
  },
  {
   "cell_type": "code",
   "execution_count": 0,
   "metadata": {
    "application/vnd.databricks.v1+cell": {
     "cellMetadata": {
      "byteLimit": 2048000,
      "rowLimit": 10000
     },
     "inputWidgets": {},
     "nuid": "5ce258cd-5e75-443b-a8c6-78dacc4ab7ce",
     "showTitle": false,
     "title": ""
    }
   },
   "outputs": [],
   "source": [
    "analyzer = SentimentIntensityAnalyzer()"
   ]
  },
  {
   "cell_type": "markdown",
   "metadata": {
    "application/vnd.databricks.v1+cell": {
     "cellMetadata": {
      "byteLimit": 2048000,
      "rowLimit": 10000
     },
     "inputWidgets": {},
     "nuid": "87a410c9-fc70-445b-abe7-ba40869dc186",
     "showTitle": false,
     "title": ""
    }
   },
   "source": [
    "**Creazione di una funzione per il calcolo del punteggio di sentimenti**"
   ]
  },
  {
   "cell_type": "code",
   "execution_count": 0,
   "metadata": {
    "application/vnd.databricks.v1+cell": {
     "cellMetadata": {
      "byteLimit": 2048000,
      "rowLimit": 10000
     },
     "inputWidgets": {},
     "nuid": "af8fdd12-685c-40f4-ae72-fe4d107f8e52",
     "showTitle": false,
     "title": ""
    }
   },
   "outputs": [],
   "source": [
    "def get_sentiment_score(tweet):\n",
    "    return float(analyzer.polarity_scores(tweet)['compound'])"
   ]
  },
  {
   "cell_type": "markdown",
   "metadata": {
    "application/vnd.databricks.v1+cell": {
     "cellMetadata": {
      "byteLimit": 2048000,
      "rowLimit": 10000
     },
     "inputWidgets": {},
     "nuid": "43627e56-dd1e-4b48-9314-1fcf9aa8a910",
     "showTitle": false,
     "title": ""
    }
   },
   "source": [
    "**Funzione UDF per ottenere il punteggio di sentiment**"
   ]
  },
  {
   "cell_type": "code",
   "execution_count": 0,
   "metadata": {
    "application/vnd.databricks.v1+cell": {
     "cellMetadata": {
      "byteLimit": 2048000,
      "rowLimit": 10000
     },
     "inputWidgets": {},
     "nuid": "ca236575-ecaf-49e9-8cbb-f583d25f2b02",
     "showTitle": false,
     "title": ""
    }
   },
   "outputs": [],
   "source": [
    "get_sentiment_score_udf = udf(get_sentiment_score, FloatType())\n"
   ]
  },
  {
   "cell_type": "markdown",
   "metadata": {
    "application/vnd.databricks.v1+cell": {
     "cellMetadata": {
      "byteLimit": 2048000,
      "rowLimit": 10000
     },
     "inputWidgets": {},
     "nuid": "653098c6-66da-4c39-b932-cecc565e3ddd",
     "showTitle": false,
     "title": ""
    }
   },
   "source": [
    "**Calcolo del punteggio del sentiment**"
   ]
  },
  {
   "cell_type": "code",
   "execution_count": 0,
   "metadata": {
    "application/vnd.databricks.v1+cell": {
     "cellMetadata": {
      "byteLimit": 2048000,
      "rowLimit": 10000
     },
     "inputWidgets": {},
     "nuid": "94d946fe-139a-4e5f-b465-3c134e2557cf",
     "showTitle": false,
     "title": ""
    }
   },
   "outputs": [],
   "source": [
    "df = df.withColumn('sentiment_score', get_sentiment_score_udf(col('clean_text')))"
   ]
  },
  {
   "cell_type": "markdown",
   "metadata": {
    "application/vnd.databricks.v1+cell": {
     "cellMetadata": {
      "byteLimit": 2048000,
      "rowLimit": 10000
     },
     "inputWidgets": {},
     "nuid": "ab3923bc-c482-4e4e-8cdc-229ea13afb72",
     "showTitle": false,
     "title": ""
    }
   },
   "source": [
    "**Funzione per la classificazione del sentiment**"
   ]
  },
  {
   "cell_type": "code",
   "execution_count": 0,
   "metadata": {
    "application/vnd.databricks.v1+cell": {
     "cellMetadata": {
      "byteLimit": 2048000,
      "rowLimit": 10000
     },
     "inputWidgets": {},
     "nuid": "cd4a72f4-d57b-4f2e-8134-e8e8f8437e2d",
     "showTitle": false,
     "title": ""
    }
   },
   "outputs": [],
   "source": [
    "def classify_sentiment(score):\n",
    "    if score > 0:\n",
    "        return 'positive'\n",
    "    elif score < 0:\n",
    "        return 'negative'\n",
    "    else:\n",
    "        return 'neutral'"
   ]
  },
  {
   "cell_type": "markdown",
   "metadata": {
    "application/vnd.databricks.v1+cell": {
     "cellMetadata": {
      "byteLimit": 2048000,
      "rowLimit": 10000
     },
     "inputWidgets": {},
     "nuid": "9a6d8919-d7ee-4cde-927b-708a98f82505",
     "showTitle": false,
     "title": ""
    }
   },
   "source": [
    "**Funzione UDF per classificare il sentiment**"
   ]
  },
  {
   "cell_type": "code",
   "execution_count": 0,
   "metadata": {
    "application/vnd.databricks.v1+cell": {
     "cellMetadata": {
      "byteLimit": 2048000,
      "rowLimit": 10000
     },
     "inputWidgets": {},
     "nuid": "1a47bd04-c569-4861-bd69-633b2fca9b4d",
     "showTitle": false,
     "title": ""
    }
   },
   "outputs": [],
   "source": [
    "classify_sentiment_udf = udf(classify_sentiment, StringType())"
   ]
  },
  {
   "cell_type": "code",
   "execution_count": 0,
   "metadata": {
    "application/vnd.databricks.v1+cell": {
     "cellMetadata": {
      "byteLimit": 2048000,
      "rowLimit": 10000
     },
     "inputWidgets": {},
     "nuid": "219d3c04-54c0-4597-bdcc-42f5354bda2a",
     "showTitle": false,
     "title": ""
    }
   },
   "outputs": [],
   "source": [
    "df = df.withColumn('sentiment', classify_sentiment_udf(col('sentiment_score')))\n"
   ]
  },
  {
   "cell_type": "markdown",
   "metadata": {
    "application/vnd.databricks.v1+cell": {
     "cellMetadata": {
      "byteLimit": 2048000,
      "rowLimit": 10000
     },
     "inputWidgets": {},
     "nuid": "63bb6f39-0d3b-486a-8e60-6b85418ebe57",
     "showTitle": false,
     "title": ""
    }
   },
   "source": [
    "**Analisi dei likes e delle risposte per sentiment**"
   ]
  },
  {
   "cell_type": "code",
   "execution_count": 0,
   "metadata": {
    "application/vnd.databricks.v1+cell": {
     "cellMetadata": {
      "byteLimit": 2048000,
      "rowLimit": 10000
     },
     "inputWidgets": {},
     "nuid": "db82fcbc-af35-4970-aa09-c185b3a5b8b6",
     "showTitle": false,
     "title": ""
    }
   },
   "outputs": [
    {
     "output_type": "stream",
     "name": "stdout",
     "output_type": "stream",
     "text": [
      "Media dei likes per sentiment:\npositive: 9.268682207706599\nneutral: 4.94231652429503\nnegative: 11.694061679790027\nMedia delle risposte per sentiment:\npositive: 1.312548690597471\nneutral: 0.46097180123082576\nnegative: 1.2028379265091864\n"
     ]
    }
   ],
   "source": [
    "likes_analysis = df.groupBy('sentiment').avg('likes').collect()\n",
    "replies_analysis = df.groupBy('sentiment').avg('replies').collect()\n",
    "print(\"Media dei likes per sentiment:\")\n",
    "for row in likes_analysis:\n",
    "    print(f\"{row['sentiment']}: {row['avg(likes)']}\")\n",
    "\n",
    "print(\"Media delle risposte per sentiment:\")\n",
    "for row in replies_analysis:\n",
    "    print(f\"{row['sentiment']}: {row['avg(replies)']}\")"
   ]
  },
  {
   "cell_type": "code",
   "execution_count": 0,
   "metadata": {
    "application/vnd.databricks.v1+cell": {
     "cellMetadata": {
      "byteLimit": 2048000,
      "rowLimit": 10000
     },
     "inputWidgets": {},
     "nuid": "5e132b37-9537-4c27-a45e-7ae71a40540b",
     "showTitle": false,
     "title": ""
    }
   },
   "outputs": [],
   "source": [
    "likes_data = {row['sentiment']: row['avg(likes)'] for row in likes_analysis}\n",
    "replies_data = {row['sentiment']: row['avg(replies)'] for row in replies_analysis}"
   ]
  },
  {
   "cell_type": "markdown",
   "metadata": {
    "application/vnd.databricks.v1+cell": {
     "cellMetadata": {
      "byteLimit": 2048000,
      "rowLimit": 10000
     },
     "inputWidgets": {},
     "nuid": "13641993-0e17-4580-ba9a-38aac413732f",
     "showTitle": false,
     "title": ""
    }
   },
   "source": [
    "**Visualizzazione della media dei likes per sentiment**"
   ]
  },
  {
   "cell_type": "code",
   "execution_count": 0,
   "metadata": {
    "application/vnd.databricks.v1+cell": {
     "cellMetadata": {
      "byteLimit": 2048000,
      "rowLimit": 10000
     },
     "inputWidgets": {},
     "nuid": "a0dc94a1-5962-44e1-8887-03af4e192340",
     "showTitle": false,
     "title": ""
    }
   },
   "outputs": [
    {
     "output_type": "display_data",
     "data": {
      "image/png": "[encoded data removed]"
     },
     "metadata": {
      "application/vnd.databricks.v1+output": {
       "addedWidgets": {},
       "arguments": {},
       "data": "data:image/png;base64,iVBORw0KGgoAAAANSUhEUgAAAl4AAAFNCAYAAADRi2EuAAAAOXRFWHRTb2Z0d2FyZQBNYXRwbG90bGliIHZlcnNpb24zLjUuMSwgaHR0cHM6Ly9tYXRwbG90bGliLm9yZy/YYfK9AAAACXBIWXMAAAsTAAALEwEAmpwYAAAeMElEQVR4nO3debhddX3v8fdHBpEZJdqCYkARBKsgUUGrIg6linCrqEwq1jbltjK1thevbcFb9dpHW72ttYgVoYoURGkRkYIDaBXQgICMliIWECGoyKTI8L1/rHV0E8/ZOUnO/u2TnffrefZz1vz7rp2VnE9+a0pVIUmSpNF7xLgLkCRJWlMYvCRJkhoxeEmSJDVi8JIkSWrE4CVJktSIwUuSJKkRg5e0BklSSZ7cDx+b5C/maLsnJHnnLJe9MsnuK9HG3Um2WdH21nRJnp/k2nHXIalj8JLmoSQ3JPl5ks2Xmf6tPjwtXNU2quqQqvqrVd3OSrS7Y1WdN928YYGqqjasqutHWlwjSTZNcnySHyS5K8l3khw1R9v+RbgGqKqvVtV2c7HtFaxjYV/L2q3bluYzg5c0f30X2H9qJMlvAOuPrxytjBmCx/uBDYGnApsAewPXtaxL0ngYvKT56+PAGwbG3wj88+ACSR6Z5H1J/jvJrf3pw0cNzP/TJLck+X6S311m3V/0LiXZLMmZSZYm+XE//PiZCkuyc5JL+t6aU4D1lpm/V5JLk9yR5OtJnj4w74YkL1nRL2PZnpyB6Rsl+XKSv0tn+yTnJvlRkmuTvHZg2Zcnuaqv++Ykb52hrYOTfC3JB5P8JMk1SV48MH+TJB/tv9ubk7wzyVrLrPv+JD8EjpmmiWcBn6yqH1fVQ1V1TVWdNrD9YftwQpJ/SPK5fj8uSvKkft5X+sUu60/Nvi7J7kluGlj/hv64uDzJPf1+PC7J5/vtfSHJZgPL79r/Gd6R5LLB08RJzkvyV/3+3pXknIFe2qla7uhr2W2671pa0xi8pPnrQmDjJE/tf6nvB3ximWXeAzwF2Al4MrAl8JcASfYE3gq8FNgWGBZ2HgF8DHgisBXwU+CD0y2YZF3gX+mC4aOBTwGvHpi/M3A88AfAY4APA2ckeeSs9noFJHkM8EXga1V1GF2P4LnAJ4HH0n1nH0qyQ7/KR4E/qKqNgKcBXxqy+ecA/wVsDhwNfCbJo/t5JwAP0H3nOwMvA35vmXWvBx4HvGuabV8IvCvJm5Jsu8w+bbCcfaCf9g5gM7qesncBVNUL+vnP6E/NnjLDvr2a7rh4CvBK4PPA/wYW0B0Lh/W1bAl8Dngn3Z/1W4FPJ1kwsK0DgDf1ta7bLwMwVcumfS0XzFCLtEYxeEnz21Sv10uBq4Gbp2YkCbAYOLKqflRVdwHvpvulDPBa4GNVdUVV3cP0PS8AVNUPq+rTVXVvv513AS+cYfFdgXWAD1TV/X1PzTcH5i8GPlxVF1XVg1V1InBfv95c2gI4H/hUVf15P20v4Iaq+lhVPVBV3wI+Dbymn38/sEOSjfvepkuGbP82frmPpwDXAq9I8jjg5cARVXVPVd1Gd+pwv4F1v19Vf9/X8NNptn0ocBLwFuCqJNcl+e1Z7gPA6VX1jap6oN/OTsv9th7u76vq1qq6GfgqcFFVfauqfgacThcmAQ4Czqqqs/qeuXOBJf3+T/lYVX2n389TV6IWaY3iRY/S/PZxulM2W7PMaUa63on1gYu7DAZAgLX64S2AiweW/95MjSRZny487EnXiwKwUZK1qurBZRbfAri5qmqGbT8ReGOSQwemrduvN5deAdwNHLtM289JcsfAtLXpvkfoenr+HHhPksuBo4b0xEy3j1v0bawD3DLwvT8CuHFg2cHhX9GHlHcD706yMXAU8KkkW81iHwB+MDB8L931Yivi1oHhn04zPrW9JwKvSfLKgfnrAF+ew1qkNYrBS5rHqup7Sb5L18Pw5mVm3073S3LHvudiWbcATxgY32pIU38CbAc8p6p+kGQn4Ft0QW667W6ZJAPBZCu603LQhY53VdV0p9jm0kfoQuJZSfbse/VuBM6vqpdOt0JVfRPYJ8k6dL1Np/Lw72jQdPt4Rt/GfcDmfY/TtE3Ndieq6s4k7wbeRhewh+5DYzcCH6+q31+JdWf9HUhrEk81SvPfm4E9+mDxC1X1EF34eH+Sx0J3TU6S3+oXORU4OMkOfY/W0UPa2IguxN3RX8c0bNkL6K5vOizJOkleBTx7YP5HgEOSPKe/2H2DJK9IstEs93etJOsNfNYdsuxb6E4BfjbdTQVnAk9J8vq+tnWSPKu/Tm7dJAcm2aSq7gfuBB4asu3HDuzja+juQDyrqm4BzgH+JsnGSR6R5ElJZjo1+yuS/EVf17pJ1gMOB+7o92XGfZjl5m8FtpltLcvxCeCVSX4rydSfy+4ZcuPFgKV03+9c1SJNBIOXNM9V1X9V1ZIZZv8vuourL0xyJ/AFup4rqurzwAfoLiC/juEXkn8AeBRdL9qFwNlD6vk58CrgYOBHwOuAzwzMXwL8Pt3F+T/u2z542D4u4yi6EDj1mbHuvjdqMXAT8G9013C9jO56q+/TnQb7a2Dqwv7XAzf039UhwIFD6riI7qaE2+muedu3qn7Yz3sD3enTq/p9PA349RXYx6K7meH2vs6XAq+oqrv7a+yG7cPyHAOc2N+F+NrlLTy0yKobgX3oLrxfStcD9qfM4ndHVd1L9719ra9lrq/xk1ZLefglDJKkJAcDv1dVvznuWiRNFnu8JEmSGjF4SZIkNeKpRkmSpEbs8ZIkSWrE4CVJktTIavEA1c0337wWLlw47jIkSZKW6+KLL769qhZMN2+1CF4LFy5kyZKZHmMkSZI0fySZ8RVtIzvVmOT4JLcluWJg2nuTXJPk8iSnJ9l0VO1LkiTNN6O8xusEuhfuDjoXeFpVPR34Dt27ySRJktYIIwteVfUVuteJDE47Z+ClshcCs3nflyRJ0kQY512Nvwt8foztS5IkNTWW4JXk7cADwElDllmcZEmSJUuXLm1XnCRJ0og0D179y2f3Ag6sIY/Nr6rjqmpRVS1asGDaOzIlSZJWK00fJ5FkT+DPgBdW1b0t25YkSRq3UT5O4mTgAmC7JDcleTPwQWAj4NwklyY5dlTtS5IkzTcj6/Gqqv2nmfzRUbUnSZI03/muRkmSpEYMXpIkSY2sFu9qlCQJIBl3BVrdzfw8hTbs8ZIkSWrE4CVJktSIwUuSJKkRg5ckSVIjBi9JkqRGDF6SJEmNGLwkSZIaMXhJkiQ1YvCSJElqxOAlSZLUiMFLkiSpEYOXJElSIwYvSZKkRgxekiRJjRi8JEmSGjF4SZIkNWLwkiRJasTgJUmS1IjBS5IkqRGDlyRJUiMGL0mSpEYMXpIkSY0YvCRJkhoxeEmSJDVi8JIkSWrE4CVJktSIwUuSJKkRg5ckSVIjBi9JkqRGDF6SJEmNGLwkSZIaMXhJkiQ1YvCSJElqZGTBK8nxSW5LcsXAtEcnOTfJf/Y/NxtV+5IkSfPNKHu8TgD2XGbaUcAXq2pb4Iv9uCRJ0hphZMGrqr4C/GiZyfsAJ/bDJwL/Y1TtS5IkzTetr/F6XFXd0g//AHjcTAsmWZxkSZIlS5cubVOdJEnSCI3t4vqqKqCGzD+uqhZV1aIFCxY0rEySJGk0WgevW5P8OkD/87bG7UuSJI1N6+B1BvDGfviNwL81bl+SJGlsRvk4iZOBC4DtktyU5M3Ae4CXJvlP4CX9uCRJ0hph7VFtuKr2n2HWi0fVpiRJ0nzmk+slSZIaMXhJkiQ1YvCSJElqxOAlSZLUiMFLkiSpEYOXJElSIwYvSZKkRgxekiRJjRi8JEmSGjF4SZIkNWLwkiRJamRk72pc3eQdGXcJWs3V0TXuEiRJ85w9XpIkSY0YvCRJkhoxeEmSJDVi8JIkSWrE4CVJktSIwUuSJKkRg5ckSVIjBi9JkqRGDF6SJEmNGLwkSZIaMXhJkiQ1YvCSJElqxOAlSZLUiMFLkiSpEYOXJElSIwYvSZKkRgxekiRJjRi8JEmSGjF4SZIkNWLwkiRJasTgJUmS1IjBS5IkqRGDlyRJUiNjCV5JjkxyZZIrkpycZL1x1CFJktRS8+CVZEvgMGBRVT0NWAvYr3UdkiRJrY3rVOPawKOSrA2sD3x/THVIkiQ10zx4VdXNwPuA/wZuAX5SVee0rkOSJKm1cZxq3AzYB9ga2ALYIMlB0yy3OMmSJEuWLl3aukxJkqQ5N45TjS8BvltVS6vqfuAzwHOXXaiqjquqRVW1aMGCBc2LlCRJmmvjCF7/DeyaZP0kAV4MXD2GOiRJkpoaxzVeFwGnAZcA3+5rOK51HZIkSa2tvbwFkmwA/LSqHkryFGB74PP9acKVUlVHA0ev7PqSJEmro9n0eH0FWK9//tY5wOuBE0ZZlCRJ0iSaTfBKVd0LvAr4UFW9BthxtGVJkiRNnlkFryS7AQcCn+unrTW6kiRJkibTbILXEcDbgNOr6sok2wBfHmlVkiRJE2i5F9dX1fnA+UnW78evp3vXoiRJklbAcnu8kuyW5Crgmn78GUk+NPLKJEmSJsxsTjV+APgt4IcAVXUZ8IIR1iRJkjSRZvUA1aq6cZlJD46gFkmSpIm23Gu8gBuTPBeoJOsAh+MrfiRJklbYbHq8DgH+CNgSuBnYCfjDEdYkSZI0kWbT4/WsqjpwcEKSQ4BjR1OSJEnSZJpNj9dfJNljaiTJnwL7jK4kSZKkyTSbHq+9gTP7wLUn3UuyDV6SJEkraDYPUL09yd7AF4CLgX2rqkZemSRJ0oSZMXgluQsoIP3PdYFtgH2TVFVt3KZESZKkyTBj8KqqjVoWIkmSNOmG9XhtX1XXJHnmdPOr6pLRlSVJkjR5hl3j9cfAYuBvpplXwB7TTJckSdIMhp1qXNz/fNGy85LsOsqiJEmSJtGs3tU4jVPntApJkqQ1wMoGr8xpFZIkSWuAlQ1ePsdLkiRpBQ27q/GzTB+wAjxmZBVJkiRNqGF3Nb5vJedJkiRpGsPuajy/ZSGSJEmTbmWv8ZIkSdIKMnhJkiQ1YvCSJElqZNhdjR+oqiNmuruxqvYeaWWSJEkTZthdjR/vf3oHoyRJ0hwYdlfjxf3P85M8Ctiqqq5tVpkkSdKEWe41XkleCVwKnN2P75TkjBHXJUmSNHFmc3H9McCzgTsAqupSYOuRVSRJkjShZhO87q+qnywzzXc1SpIkraBhF9dPuTLJAcBaSbYFDgO+PtqyJEmSJs9serwOBXYE7gNOBu4EjliVRpNsmuS0JNckuTrJbquyPUmSpNXBcnu8qupe4O39Z678P+Dsqto3ybrA+nO4bUmSpHlp2ANUp31w6pSVfYBqkk2AFwAH99v5OfDzldmWJEnS6mRYj9fUg1NfBfwa8Il+fH/g1lVoc2tgKfCxJM8ALgYOr6p7VmGbkiRJ896M13hV1flVdT7wvKp6XVV9tv8cADx/FdpcG3gm8I9VtTNwD3DUsgslWZxkSZIlS5cuXYXmJEmS5ofZXFy/QZJtpkaSbA1ssApt3gTcVFUX9eOn0QWxh6mq46pqUVUtWrBgwSo0J0mSND/M5nESRwLnJbkeCPBEYPHKNlhVP0hyY5Lt+lcQvRi4amW3J0mStLqYzV2NZ/fP79q+n3RNVd23iu0eCpzU39F4PfCmVdyeJEnSvDebHi/6oHXZXDXav3Zo0VxtT5IkaXUwm2u8JEmSNAcMXpIkSY3M6lRjks2AbYH1pqZV1VdGVZQkSdIkWm7wSvJ7wOHA44FLgV2BC4A9RlqZJEnShJnNqcbDgWcB36uqFwE7A3eMsihJkqRJNJvg9bOq+hlAkkdW1TXAdqMtS5IkafLM5hqvm5JsCvwrcG6SHwPfG2VRkiRJk2g2D1D9nX7wmCRfBjYBzh5pVZIkSRNoxuCVZOOqujPJowcmf7v/uSHwo5FWJkmSNGGG9Xh9EtgLuBgouvc0Tilgm+lWkiRJ0vRmDF5VtVf/c+t25UiSJE2uYacanzlsxaq6ZO7LkSRJmlzDTjX+Tf9zPboXWl9Gd7rx6cASYLfRliZJkjRZZnyOV1W9qH9g6i3AM6tqUVXtQvcA1ZtbFShJkjQpZvMA1e2qaupuRqrqCuCpoytJkiRpMs3mAaqXJ/kn4BP9+IHA5aMrSZIkaTLNJni9CfifdO9sBPgK8I8jq0iSJGlCzebJ9T9LcixwVlVd26AmSZKkibTc4JVkb+C9wLrA1kl2Av5PVe094tokrYpk+ctIw1SNuwJp4szm4vqjgWcDdwBU1aWAD1WVJElaQbMJXvdX1U+WmeZ/gyRJklbQbC6uvzLJAcBaSbYFDgO+PtqyJEmSJs9serwOBXYE7gNOBu4EjhhhTZIkSRNpNnc13gu8vf9IkiRpJQ17SfYZw1b0rkZJkqQVM6zHazfgRrrTixfRvSBbkiRJK2lY8Po14KXA/sABwOeAk6vqyhaFSZIkTZoZL66vqger6uyqeiOwK3AdcF6StzSrTpIkaYIMvbg+ySOBV9D1ei0E/g44ffRlSZIkTZ5hF9f/M/A04CzgHVV1RbOqJEmSJtCwHq+DgHuAw4HD8sv3vgWoqtp4xLVJkiRNlBmDV1XN5uGqkiRJmiXDlSRJUiMGL0mSpEYMXpIkSY2MLXglWSvJt5KcOa4aJEmSWhpnj9fhwNVjbF+SJKmpsQSvJI+nezDrP42jfUmSpHEYV4/XB4A/Ax4aU/uSJEnNNQ9eSfYCbquqi5ez3OIkS5IsWbp0aaPqJEmSRmccPV7PA/ZOcgPwL8AeST6x7EJVdVxVLaqqRQsWLGhdoyRJ0pxrHryq6m1V9fiqWgjsB3ypqg5qXYckSVJrPsdLkiSpkWEvyR65qjoPOG+cNUiSJLVij5ckSVIjBi9JkqRGDF6SJEmNGLwkSZIaMXhJkiQ1YvCSJElqxOAlSZLUiMFLkiSpEYOXJElSIwYvSZKkRgxekiRJjRi8JEmSGjF4SZIkNWLwkiRJasTgJUmS1IjBS5IkqRGDlyRJUiMGL0mSpEYMXpIkSY0YvCRJkhoxeEmSJDVi8JIkSWrE4CVJktSIwUuSJKkRg5ckSVIjBi9JkqRGDF6SJEmNGLwkSZIaMXhJkiQ1YvCSJElqxOAlSZLUiMFLkiSpEYOXJElSIwYvSZKkRgxekiRJjRi8JEmSGmkevJI8IcmXk1yV5Mokh7euQZIkaRzWHkObDwB/UlWXJNkIuDjJuVV11RhqkSRJaqZ5j1dV3VJVl/TDdwFXA1u2rkOSJKm1sV7jlWQhsDNw0TjrkCRJamFswSvJhsCngSOq6s5p5i9OsiTJkqVLl7YvUJIkaY6NJXglWYcudJ1UVZ+ZbpmqOq6qFlXVogULFrQtUJIkaQTGcVdjgI8CV1fV37ZuX5IkaVzG0eP1POD1wB5JLu0/Lx9DHZIkSU01f5xEVf0HkNbtSpIkjZtPrpckSWrE4CVJktSIwUuSJKkRg5ckSVIjBi9JkqRGDF6SJEmNGLwkSZIaMXhJkiQ1YvCSJElqxOAlSZLUiMFLkiSpEYOXJElSIwYvSZKkRgxekiRJjRi8JEmSGjF4SZIkNWLwkiRJasTgJUmS1IjBS5IkqRGDlyRJUiMGL0mSpEYMXpIkSY0YvCRJkhoxeEmSJDVi8JIkSWrE4CVJktSIwUuSJKkRg5ckSVIjBi9JkqRGDF6SJEmNGLwkSZIaMXhJkiQ1YvCSJElqxOAlSZLUiMFLkiSpkbEEryR7Jrk2yXVJjhpHDZIkSa01D15J1gL+AfhtYAdg/yQ7tK5DkiSptXH0eD0buK6qrq+qnwP/AuwzhjokSZKaGkfw2hK4cWD8pn6aJEnSRFt73AXMJMliYHE/eneSa8dZjwDYHLh93EXMVzkm4y5BK85jeph4TK+GPKaXo9Fh/cSZZowjeN0MPGFg/PH9tIepquOA41oVpeVLsqSqFo27DmmueExr0nhMz3/jONX4TWDbJFsnWRfYDzhjDHVIkiQ11bzHq6oeSPIW4N+BtYDjq+rK1nVIkiS1NpZrvKrqLOCscbStVeKpX00aj2lNGo/peS5VNe4aJEmS1gi+MkiSJKkRg5eWK8khSd7QDx+cZIuBef/kmwe0OkuyMMkBK7nu3XNdjzRXkmya5A8HxrdIcto4a5KnGrWCkpwHvLWqloy7FmkuJNmd7pjea5p5a1fVA0PWvbuqNhxhedJKS7IQOLOqnjbuWvRL9nhNuP5/89ckOSnJ1UlOS7J+khcn+VaSbyc5Pskj++Xfk+SqJJcneV8/7Zgkb02yL7AIOCnJpUkeleS8JIv6XrH3DrR7cJIP9sMHJflGv86H+/d1SqukP7avTvKRJFcmOac/Jp+U5OwkFyf5apLt++VP6I/hqfWneqveAzy/Pz6P7I/dM5J8Cfhikg2TfDHJJf3fF19xpjmxEsfwk5Jc2B+H75w6hocco+8BntQf2+/t27uiX+fCJDsO1DL1b/kG/e+Eb/S/Izze51pV+ZngD7AQKOB5/fjxwJ/TvbbpKf20fwaOAB4DXMsve0I37X8eQ9cjAHAesGhg++fRhbEFdO/gnJr+eeA3gacCnwXW6ad/CHjDuL8XP6v/pz+2HwB26sdPBQ4Cvghs2097DvClfvgEYN+B9e/uf+5O1yswNf1guleZPbofXxvYuB/eHLhu4O/I3eP+Hvysvp+VOIbPBPbvhw8ZOIanPUb77V+xTHtX9MNHAu/oh38duLYffjdwUD+8KfAdYINxf1eT9LHHa81wY1V9rR/+BPBi4LtV9Z1+2onAC4CfAD8DPprkVcC9s22gqpYC1yfZNcljgO2Br/Vt7QJ8M8ml/fg2q75LEtAdx5f2wxfT/WJ5LvCp/nj7MN0vlRV1blX9qB8O8O4klwNfoHu37ONWoWZp0Iocw7sBn+qHPzmwjZU5Rk8FpnqAXwtMXfv1MuCovu3zgPWArVZslzTMvH1Xo+bUshfy3UHXu/XwhbqH2z6bLhztC7wF2GMF2vkXur/A1wCnV1UlCXBiVb1tZQqXluO+geEH6X7Z3FFVO02z7AP0l1ckeQSw7pDt3jMwfCBdj+4uVXV/khvofhlJc2FFjuGZrPAxWlU3J/lhkqcDr6PrQYMuxL26qnw/8ojY47Vm2CrJbv3wAcASYGGSJ/fTXg+cn2RDYJPqHnB7JPCMabZ1F7DRDO2cDuwD7E8XwqDrMt83yWMBkjw6yYwvD5VW0Z3Ad5O8BiCdqeP4BrreV4C9gXX64WHHNMAmwG39L7QXMeTlt9IcGHYMXwi8uh/eb2CdmY7R5R3bpwB/Rvfv/uX9tH8HDu3/00ySnVd1h/RwBq81w7XAHyW5GtgMeD/wJrqu7G8DDwHH0v0FPbPvrv4P4I+n2dYJwLFTF9cPzqiqHwNXA0+sqm/0066iu6bsnH6757Jyp36k2ToQeHOSy4Ar6f4zAPAR4IX99N34Za/W5cCDSS5LcuQ02zsJWNT/XXkDXY+uNEozHcNHAH/c/1v6ZLrLQ2CGY7Sqfgh8LckVgzc/DTiNLsCdOjDtr+j+U3J5kiv7cc0hHycx4eLtxJI0EZKsD/y0v4xjP7oL7b3rcDXjNV6SJK0edgE+2J8GvAP43fGWo5Vhj5ckSVIjXuMlSZLUiMFLkiSpEYOXJElSIwYvSfNWkrf377C7vH+EyXNWYhs7JXn5wPjeSY6a20p/pc3dkzx3lG1IWj15V6Okeal/6O9ewDOr6r4kmzP8afMz2YnufaJnAVTVGcAZc1XnDHYH7ga+PuJ2JK1mvKtR0rzUvy/0TVX1ymWm7wL8LbAhcDtwcFXdkuQ84CLgRXQv931zP34d8CjgZuD/9sOLquotSU4AfgrsDDyW7vb8N9A9YPWiqjq4b/NlwDuARwL/1dd1d/9qlhOBV9I9dPI1dO87vZDu9S9LgUOr6qtz+uVIWm15qlHSfHUO8IQk30nyoSQvTLIO8PfAvlW1C3A88K6BddauqmfTPeH76Kr6OfCXwClVtVNVnTJNO5vRBa0j6XrC3g/sCPxGf5pyc7q3L7ykqp5J98qtwbc63N5P/0fgrVV1A92bIN7ft2nokvQLnmqUNC/1PUq7AM+n68U6BXgn8DTg3P5VcmsBtwys9pn+58XAwlk29dn+SeDfBm6tqm8D9K9LWQg8HtiB7tUr0J3uvGCGNl81+z2UtCYyeEmat6rqQeA84Lw+GP0RcGVV7TbDKvf1Px9k9v++Ta3z0MDw1Pja/bbOrar957BNSWsoTzVKmpeSbJdk24FJO9G9hH1Bf+E9SdZJsuNyNnUX3QvgV9aFwPOSPLlvc4MkTxlxm5ImlMFL0ny1IXBikquSXE53uu8vgX2Bv05yGXApsLzHNnwZ2KF/HMXrVrSIqloKHAyc3NdxAbD9clb7LPA7fZvPX9E2JU0u72qUJElqxB4vSZKkRgxekiRJjRi8JEmSGjF4SZIkNWLwkiRJasTgJUmS1IjBS5IkqRGDlyRJUiP/HxAH4R00bns4AAAAAElFTkSuQmCC\n",
       "datasetInfos": [],
       "metadata": {},
       "removedWidgets": [],
       "type": "image"
      }
     },
     "output_type": "display_data"
    }
   ],
   "source": [
    "plt.figure(figsize=(10, 5))\n",
    "plt.bar(likes_data.keys(), likes_data.values(), color=['green', 'red', 'blue'])\n",
    "plt.xlabel('Sentiment')\n",
    "plt.ylabel('Media dei Likes')\n",
    "plt.title('Media dei Likes per Sentiment')\n",
    "plt.show()"
   ]
  },
  {
   "cell_type": "markdown",
   "metadata": {
    "application/vnd.databricks.v1+cell": {
     "cellMetadata": {
      "byteLimit": 2048000,
      "rowLimit": 10000
     },
     "inputWidgets": {},
     "nuid": "55307775-b3d5-449a-b112-4d98e0b762d8",
     "showTitle": false,
     "title": ""
    }
   },
   "source": [
    "Positive: La media dei likes per i tweet con sentiment positivo è leggermente più bassa rispetto alla media dei likes negativi\n",
    "\n",
    "Negative: I tweet con sentiment negativo hanno ricevuto una media di likes superiore rispetto a quelli positivi.\n",
    "\n",
    "Neutral: I tweet con sentiment neutro hanno avuto mediamente meno likes rispetto a quelli positivi"
   ]
  },
  {
   "cell_type": "markdown",
   "metadata": {
    "application/vnd.databricks.v1+cell": {
     "cellMetadata": {
      "byteLimit": 2048000,
      "rowLimit": 10000
     },
     "inputWidgets": {},
     "nuid": "5d28d9a0-4d32-4bac-98bc-f4bf6822bfcb",
     "showTitle": false,
     "title": ""
    }
   },
   "source": [
    "**Visualizzazione della media delle risposte per sentiment**"
   ]
  },
  {
   "cell_type": "code",
   "execution_count": 0,
   "metadata": {
    "application/vnd.databricks.v1+cell": {
     "cellMetadata": {
      "byteLimit": 2048000,
      "rowLimit": 10000
     },
     "inputWidgets": {},
     "nuid": "2690557f-0cb8-4c1d-a2c7-fa21d052e02a",
     "showTitle": false,
     "title": ""
    }
   },
   "outputs": [
    {
     "output_type": "display_data",
     "data": {
      "image/png": "[encoded data removed]"
     },
     "metadata": {
      "application/vnd.databricks.v1+output": {
       "addedWidgets": {},
       "arguments": {},
       "data": "data:image/png;base64,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\n",
       "datasetInfos": [],
       "metadata": {},
       "removedWidgets": [],
       "type": "image"
      }
     },
     "output_type": "display_data"
    }
   ],
   "source": [
    "plt.figure(figsize=(10, 5))\n",
    "plt.bar(replies_data.keys(), replies_data.values(), color=['green', 'red', 'blue'])\n",
    "plt.xlabel('Sentiment')\n",
    "plt.ylabel('Media delle Risposte')\n",
    "plt.title('Media delle Risposte per Sentiment')\n",
    "plt.show()"
   ]
  },
  {
   "cell_type": "markdown",
   "metadata": {
    "application/vnd.databricks.v1+cell": {
     "cellMetadata": {
      "byteLimit": 2048000,
      "rowLimit": 10000
     },
     "inputWidgets": {},
     "nuid": "5a1f2144-1f0a-4383-9933-8ac94ac8d65d",
     "showTitle": false,
     "title": ""
    }
   },
   "source": [
    "Positive: I tweet con sentiment positivo hanno ricevuto mediamente più risposte rispetto agli altri sentiment.\n",
    "\n",
    "Negative: I tweet con sentiment negativo hanno avuto un numero di risposte inferiore ai tweet positivi, ma comunque significativo.\n",
    "\n",
    "Neutral: I tweet neutri hanno avuto mediamente meno risposte rispetto ai tweet positivi e negativi.\n"
   ]
  },
  {
   "cell_type": "markdown",
   "metadata": {
    "application/vnd.databricks.v1+cell": {
     "cellMetadata": {
      "byteLimit": 2048000,
      "rowLimit": 10000
     },
     "inputWidgets": {},
     "nuid": "dcc43702-a1bf-410f-9721-f78888a56064",
     "showTitle": false,
     "title": ""
    }
   },
   "source": [
    "**Media dei retweet per sentiment**"
   ]
  },
  {
   "cell_type": "code",
   "execution_count": 0,
   "metadata": {
    "application/vnd.databricks.v1+cell": {
     "cellMetadata": {
      "byteLimit": 2048000,
      "rowLimit": 10000
     },
     "inputWidgets": {},
     "nuid": "ae87205e-6868-4334-b616-e929aa298830",
     "showTitle": false,
     "title": ""
    }
   },
   "outputs": [
    {
     "output_type": "stream",
     "name": "stdout",
     "output_type": "stream",
     "text": [
      "Media dei retweet per sentiment:\npositive: 3.720830586684245\nneutral: 2.0153761366767706\nnegative: 3.104084645669291\n"
     ]
    }
   ],
   "source": [
    "retweets_analysis = df.groupBy('sentiment').avg('retweets').collect()\n",
    "print(\"Media dei retweet per sentiment:\")\n",
    "for row in retweets_analysis:\n",
    "    print(f\"{row['sentiment']}: {row['avg(retweets)']}\")"
   ]
  },
  {
   "cell_type": "markdown",
   "metadata": {
    "application/vnd.databricks.v1+cell": {
     "cellMetadata": {
      "byteLimit": 2048000,
      "rowLimit": 10000
     },
     "inputWidgets": {},
     "nuid": "2aa839b1-fbbf-4aa6-b119-be0cc2eac844",
     "showTitle": false,
     "title": ""
    }
   },
   "source": [
    "**Percentuale di tweet per ciascun sentiment**"
   ]
  },
  {
   "cell_type": "code",
   "execution_count": 0,
   "metadata": {
    "application/vnd.databricks.v1+cell": {
     "cellMetadata": {
      "byteLimit": 2048000,
      "rowLimit": 10000
     },
     "inputWidgets": {},
     "nuid": "864797ce-8963-436d-889c-2c08d2e601a7",
     "showTitle": false,
     "title": ""
    }
   },
   "outputs": [
    {
     "output_type": "stream",
     "name": "stdout",
     "output_type": "stream",
     "text": [
      "Percentuale di tweet per ciascun sentiment:\npositive: 33.37%\nneutral: 54.43%\nnegative: 12.19%\n"
     ]
    }
   ],
   "source": [
    "total_tweets = df.count()\n",
    "sentiment_counts = df.groupBy('sentiment').count().collect()\n",
    "print(\"Percentuale di tweet per ciascun sentiment:\")\n",
    "for row in sentiment_counts:\n",
    "    percentage = (row['count'] / total_tweets) * 100\n",
    "    print(f\"{row['sentiment']}: {percentage:.2f}%\")"
   ]
  },
  {
   "cell_type": "markdown",
   "metadata": {
    "application/vnd.databricks.v1+cell": {
     "cellMetadata": {
      "byteLimit": 2048000,
      "rowLimit": 10000
     },
     "inputWidgets": {},
     "nuid": "1a29e456-d3f6-454e-9451-a0612981efb0",
     "showTitle": false,
     "title": ""
    }
   },
   "source": [
    "**Visualizzazione della media dei retweet per sentiment**"
   ]
  },
  {
   "cell_type": "code",
   "execution_count": 0,
   "metadata": {
    "application/vnd.databricks.v1+cell": {
     "cellMetadata": {
      "byteLimit": 2048000,
      "rowLimit": 10000
     },
     "inputWidgets": {},
     "nuid": "b290c706-36de-421d-a5e7-5746a9ff3a7c",
     "showTitle": false,
     "title": ""
    }
   },
   "outputs": [
    {
     "output_type": "display_data",
     "data": {
      "image/png": "[encoded data removed]"
     },
     "metadata": {
      "application/vnd.databricks.v1+output": {
       "addedWidgets": {},
       "arguments": {},
       "data": "data:image/png;base64,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\n",
       "datasetInfos": [],
       "metadata": {},
       "removedWidgets": [],
       "type": "image"
      }
     },
     "output_type": "display_data"
    }
   ],
   "source": [
    "retweets_data = {row['sentiment']: row['avg(retweets)'] for row in retweets_analysis}\n",
    "plt.figure(figsize=(10, 5))\n",
    "plt.bar(retweets_data.keys(), retweets_data.values(), color=['green', 'red', 'blue'])\n",
    "plt.xlabel('Sentiment')\n",
    "plt.ylabel('Media dei Retweet')\n",
    "plt.title('Media dei Retweet per Sentiment')\n",
    "plt.show()\n"
   ]
  },
  {
   "cell_type": "markdown",
   "metadata": {
    "application/vnd.databricks.v1+cell": {
     "cellMetadata": {
      "byteLimit": 2048000,
      "rowLimit": 10000
     },
     "inputWidgets": {},
     "nuid": "b5ace9e1-44e1-4790-8e70-28d01f40a656",
     "showTitle": false,
     "title": ""
    }
   },
   "source": [
    "Positive: I tweet positivi sono stati retweettati mediamente di più rispetto ai tweet neutri e negativi.\n",
    "\n",
    "Negative: I tweet negativi hanno avuto una media di retweet inferiore rispetto ai tweet positivi, ma non di molto.\n",
    "\n",
    "Neutral: I tweet neutri hanno avuto il minor numero di retweet in media."
   ]
  },
  {
   "cell_type": "markdown",
   "metadata": {
    "application/vnd.databricks.v1+cell": {
     "cellMetadata": {
      "byteLimit": 2048000,
      "rowLimit": 10000
     },
     "inputWidgets": {},
     "nuid": "fed84f31-eb52-4b77-840b-5043abac40c3",
     "showTitle": false,
     "title": ""
    }
   },
   "source": [
    "**Visualizzazione della percentuale di tweet per ciascun sentiment**"
   ]
  },
  {
   "cell_type": "code",
   "execution_count": 0,
   "metadata": {
    "application/vnd.databricks.v1+cell": {
     "cellMetadata": {
      "byteLimit": 2048000,
      "rowLimit": 10000
     },
     "inputWidgets": {},
     "nuid": "2a6b5090-8661-413b-ab23-72576a8f7f49",
     "showTitle": false,
     "title": ""
    }
   },
   "outputs": [
    {
     "output_type": "display_data",
     "data": {
      "image/png": "[encoded data removed]"
     },
     "metadata": {
      "application/vnd.databricks.v1+output": {
       "addedWidgets": {},
       "arguments": {},
       "data": "data:image/png;base64,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\n",
       "datasetInfos": [],
       "metadata": {},
       "removedWidgets": [],
       "type": "image"
      }
     },
     "output_type": "display_data"
    }
   ],
   "source": [
    "sentiment_percentages = {row['sentiment']: (row['count'] / total_tweets) * 100 for row in sentiment_counts}\n",
    "plt.figure(figsize=(10, 5))\n",
    "plt.bar(sentiment_percentages.keys(), sentiment_percentages.values(), color=['green', 'red', 'blue'])\n",
    "plt.xlabel('Sentiment')\n",
    "plt.ylabel('Percentuale di Tweet')\n",
    "plt.title('Percentuale di Tweet per Sentiment')\n",
    "plt.show()"
   ]
  },
  {
   "cell_type": "markdown",
   "metadata": {
    "application/vnd.databricks.v1+cell": {
     "cellMetadata": {
      "byteLimit": 2048000,
      "rowLimit": 10000
     },
     "inputWidgets": {},
     "nuid": "2b786dd4-194a-4197-b212-a3c5188818e7",
     "showTitle": false,
     "title": ""
    }
   },
   "source": [
    "Positive: Una percentuale significativa dei tweet analizzati ha un sentiment positivo, suggerendo un generale ottimismo o atteggiamento favorevole verso il Bitcoin.\n",
    "\n",
    "Negative: La percentuale di tweet con sentiment negativo è inferiore rispetto a quelli con sentiment positivo e neutro, indicando che le opinioni negative sono meno comuni.\n",
    "\n",
    "Neutral: Una buona parte dei tweet ha un sentiment neutro, indicando discussioni oggettive o informative riguardo il Bitcoin."
   ]
  },
  {
   "cell_type": "markdown",
   "metadata": {
    "application/vnd.databricks.v1+cell": {
     "cellMetadata": {
      "byteLimit": 2048000,
      "rowLimit": 10000
     },
     "inputWidgets": {},
     "nuid": "8471c40a-551b-41a4-80e5-535d2faaaddb",
     "showTitle": false,
     "title": ""
    }
   },
   "source": [
    "**Conclusioni**"
   ]
  },
  {
   "cell_type": "markdown",
   "metadata": {
    "application/vnd.databricks.v1+cell": {
     "cellMetadata": {
      "byteLimit": 2048000,
      "rowLimit": 10000
     },
     "inputWidgets": {},
     "nuid": "775c14cc-a0da-4138-a0a9-e57c76f7e893",
     "showTitle": false,
     "title": ""
    }
   },
   "source": [
    " I tweet con sentiment positivo tendono a generare più interazioni in termini di likes, risposte e retweet rispetto ai tweet negativi e neutri. Questo potrebbe indicare che gli utenti di Twitter sono più inclini a interagire con contenuti che presentano il Bitcoin in una luce positiva.\n",
    "Inoltre, la predominanza di sentiment positivo e neutro suggerisce che la comunità di Twitter ha generalmente una visione favorevole o neutrale del Bitcoin. Le opinioni negative, sebbene presenti, sono meno comuni.\n",
    "\n"
   ]
  }
 ],
 "metadata": {
  "application/vnd.databricks.v1+notebook": {
   "dashboards": [],
   "environmentMetadata": null,
   "language": "python",
   "notebookMetadata": {
    "mostRecentlyExecutedCommandWithImplicitDF": {
     "commandId": 2061425132452831,
     "dataframes": [
      "_sqldf"
     ]
    },
    "pythonIndentUnit": 4
   },
   "notebookName": "Bitcoin_Sentiment_Analysis",
   "widgets": {}
  }
 },
 "nbformat": 4,
 "nbformat_minor": 0
}
